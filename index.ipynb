{
 "cells": [
  {
   "cell_type": "code",
   "execution_count": 6,
   "metadata": {},
   "outputs": [
    {
     "name": "stderr",
     "output_type": "stream",
     "text": [
      "[nltk_data] Downloading package wordnet to\n",
      "[nltk_data]     C:\\Users\\alexa\\AppData\\Roaming\\nltk_data...\n",
      "[nltk_data]   Package wordnet is already up-to-date!\n",
      "[nltk_data] Downloading package vader_lexicon to\n",
      "[nltk_data]     C:\\Users\\alexa\\AppData\\Roaming\\nltk_data...\n",
      "[nltk_data]   Package vader_lexicon is already up-to-date!\n"
     ]
    }
   ],
   "source": [
    "# Initial imports\n",
    "import os\n",
    "import pandas as pd\n",
    "from dotenv import load_dotenv\n",
    "import nltk as nltk\n",
    "nltk.download('wordnet')\n",
    "nltk.download('vader_lexicon')\n",
    "from nltk.sentiment.vader import SentimentIntensityAnalyzer\n",
    "analyzer = SentimentIntensityAnalyzer()"
   ]
  },
  {
   "cell_type": "code",
   "execution_count": 7,
   "metadata": {},
   "outputs": [
    {
     "data": {
      "text/plain": [
       "True"
      ]
     },
     "execution_count": 7,
     "metadata": {},
     "output_type": "execute_result"
    }
   ],
   "source": [
    "load_dotenv('checkpoint.env')"
   ]
  },
  {
   "cell_type": "code",
   "execution_count": 16,
   "metadata": {},
   "outputs": [],
   "source": [
    "from newsapi import NewsApiClient\n",
    "\n",
    "newsapi_key = os.getenv('NEWSAPI_KEY')\n",
    "newsapi = NewsApiClient(api_key=newsapi_key)\n",
    "\n",
    "# TEST:\n",
    "# type(newsapi_key)"
   ]
  },
  {
   "cell_type": "code",
   "execution_count": 32,
   "metadata": {},
   "outputs": [],
   "source": [
    "def getHeadline(ticker):\n",
    "    return newsapi.get_everything(\n",
    "    q=ticker,\n",
    "    language=\"en\",\n",
    "    page_size=100,\n",
    "    sort_by=\"relevancy\"\n",
    ")\n",
    "\n",
    "# TEST:\n",
    "# aapl_headlines = getHeadline('aapl')"
   ]
  },
  {
   "cell_type": "code",
   "execution_count": 41,
   "metadata": {},
   "outputs": [
    {
     "data": {
      "text/html": [
       "<div>\n",
       "<style scoped>\n",
       "    .dataframe tbody tr th:only-of-type {\n",
       "        vertical-align: middle;\n",
       "    }\n",
       "\n",
       "    .dataframe tbody tr th {\n",
       "        vertical-align: top;\n",
       "    }\n",
       "\n",
       "    .dataframe thead th {\n",
       "        text-align: right;\n",
       "    }\n",
       "</style>\n",
       "<table border=\"1\" class=\"dataframe\">\n",
       "  <thead>\n",
       "    <tr style=\"text-align: right;\">\n",
       "      <th></th>\n",
       "      <th>date</th>\n",
       "      <th>title</th>\n",
       "      <th>text</th>\n",
       "      <th>compound</th>\n",
       "      <th>positive</th>\n",
       "      <th>negative</th>\n",
       "      <th>neutral</th>\n",
       "    </tr>\n",
       "  </thead>\n",
       "  <tbody>\n",
       "    <tr>\n",
       "      <th>99</th>\n",
       "      <td>2021-07-01</td>\n",
       "      <td>Kelley Blue Book: The 2021 Porsche Cayenne is ...</td>\n",
       "      <td>The Cayenne has been on the market for only tw...</td>\n",
       "      <td>0.7227</td>\n",
       "      <td>0.129</td>\n",
       "      <td>0.000</td>\n",
       "      <td>0.871</td>\n",
       "    </tr>\n",
       "    <tr>\n",
       "      <th>54</th>\n",
       "      <td>2021-07-01</td>\n",
       "      <td>Capitol Report: Amazon’s fight to sideline its...</td>\n",
       "      <td>Amazon filed a motion Wednesday with the Feder...</td>\n",
       "      <td>0.1779</td>\n",
       "      <td>0.055</td>\n",
       "      <td>0.000</td>\n",
       "      <td>0.945</td>\n",
       "    </tr>\n",
       "    <tr>\n",
       "      <th>64</th>\n",
       "      <td>2021-07-01</td>\n",
       "      <td>: FTC has a chance for a do-over in its ‘fiasc...</td>\n",
       "      <td>Could the second time be the charm for the Fed...</td>\n",
       "      <td>0.0584</td>\n",
       "      <td>0.069</td>\n",
       "      <td>0.063</td>\n",
       "      <td>0.868</td>\n",
       "    </tr>\n",
       "    <tr>\n",
       "      <th>12</th>\n",
       "      <td>2021-07-01</td>\n",
       "      <td>: Ex-Trump adviser Jason Miller to launch GETT...</td>\n",
       "      <td>Jason Miller, former senior adviser to Preside...</td>\n",
       "      <td>0.2960</td>\n",
       "      <td>0.068</td>\n",
       "      <td>0.000</td>\n",
       "      <td>0.932</td>\n",
       "    </tr>\n",
       "    <tr>\n",
       "      <th>2</th>\n",
       "      <td>2021-07-01</td>\n",
       "      <td>4 Consumer Electronics Stocks to Buy for the S...</td>\n",
       "      <td>This story originally appeared on StockNews\\r\\...</td>\n",
       "      <td>0.7184</td>\n",
       "      <td>0.214</td>\n",
       "      <td>0.043</td>\n",
       "      <td>0.743</td>\n",
       "    </tr>\n",
       "  </tbody>\n",
       "</table>\n",
       "</div>"
      ],
      "text/plain": [
       "          date                                              title  \\\n",
       "99  2021-07-01  Kelley Blue Book: The 2021 Porsche Cayenne is ...   \n",
       "54  2021-07-01  Capitol Report: Amazon’s fight to sideline its...   \n",
       "64  2021-07-01  : FTC has a chance for a do-over in its ‘fiasc...   \n",
       "12  2021-07-01  : Ex-Trump adviser Jason Miller to launch GETT...   \n",
       "2   2021-07-01  4 Consumer Electronics Stocks to Buy for the S...   \n",
       "\n",
       "                                                 text  compound  positive  \\\n",
       "99  The Cayenne has been on the market for only tw...    0.7227     0.129   \n",
       "54  Amazon filed a motion Wednesday with the Feder...    0.1779     0.055   \n",
       "64  Could the second time be the charm for the Fed...    0.0584     0.069   \n",
       "12  Jason Miller, former senior adviser to Preside...    0.2960     0.068   \n",
       "2   This story originally appeared on StockNews\\r\\...    0.7184     0.214   \n",
       "\n",
       "    negative  neutral  \n",
       "99     0.000    0.871  \n",
       "54     0.000    0.945  \n",
       "64     0.063    0.868  \n",
       "12     0.000    0.932  \n",
       "2      0.043    0.743  "
      ]
     },
     "execution_count": 41,
     "metadata": {},
     "output_type": "execute_result"
    }
   ],
   "source": [
    "def getSentimentTable(headlines):\n",
    "    sentiments = []\n",
    "    \n",
    "    for article in headlines['articles']:\n",
    "        try:\n",
    "            title = article[\"title\"]\n",
    "            text = article[\"content\"]\n",
    "            date = article[\"publishedAt\"][:10]\n",
    "            sentiment = analyzer.polarity_scores(text)\n",
    "            compound = sentiment[\"compound\"]\n",
    "            pos = sentiment[\"pos\"]\n",
    "            neu = sentiment[\"neu\"]\n",
    "            neg = sentiment[\"neg\"]\n",
    "\n",
    "            sentiments.append({\n",
    "                \"title\": title,\n",
    "                \"text\": text,\n",
    "                \"date\": date,\n",
    "                \"compound\": compound,\n",
    "                \"positive\": pos,\n",
    "                \"negative\": neg,\n",
    "                \"neutral\": neu\n",
    "\n",
    "            })\n",
    "        except AttributeError:\n",
    "            pass\n",
    "    \n",
    "    sentiment_df = pd.DataFrame(sentiments)\n",
    "    cols = [\"date\", \"title\", \"text\", \"compound\", \"positive\", \"negative\", \"neutral\"]\n",
    "    sentiment_df = sentiment_df[cols]\n",
    "    return sentiment_df.sort_values(by=\"date\", ascending=False)\n",
    "\n",
    "# TEST:\n",
    "# aapl_sentiment_df = getSentimentTable(aapl_headlines)\n",
    "# aapl_sentiment_df.head()"
   ]
  }
 ],
 "metadata": {
  "kernelspec": {
   "display_name": "Python [conda env:pyvizenv] *",
   "language": "python",
   "name": "conda-env-pyvizenv-py"
  },
  "language_info": {
   "codemirror_mode": {
    "name": "ipython",
    "version": 3
   },
   "file_extension": ".py",
   "mimetype": "text/x-python",
   "name": "python",
   "nbconvert_exporter": "python",
   "pygments_lexer": "ipython3",
   "version": "3.7.9"
  }
 },
 "nbformat": 4,
 "nbformat_minor": 4
}
